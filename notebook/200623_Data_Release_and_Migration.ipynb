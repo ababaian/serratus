{
 "cells": [
  {
   "cell_type": "markdown",
   "metadata": {
    "heading_collapsed": true
   },
   "source": [
    "# Serratus Data Migration -- v200623\n",
    "```\n",
    "Lead     : ababaian\n",
    "Issue    : #83\n",
    "start    : 2020 06 23\n",
    "complete : 2020 06 xx\n",
    "files    : ~/serratus/notebook/200623_ab/\n",
    "s3 files : s3://serratus-public/lovelywater2/\n",
    "s3 files : s3://lovelywater2/\n",
    "```"
   ]
  },
  {
   "cell_type": "markdown",
   "metadata": {},
   "source": [
    "# Release updates\n",
    "\n",
    "- `200612_qc`: Second batch of viral-metagenomes\n",
    "- `200613_mu`: Remaining murine samples\n",
    "- `200613_inv` : Invertebrate samples batch 1\n",
    "- `200620_inv` : Bat + Invertebrate samples 2\n"
   ]
  },
  {
   "cell_type": "code",
   "execution_count": 1,
   "metadata": {},
   "outputs": [
    {
     "name": "stdout",
     "output_type": "stream",
     "text": []
    }
   ],
   "source": [
    "WORKDIR='serratus/notebook/200623_ab'\n",
    "mkdir -p $WORKDIR; cd $WORKDIR"
   ]
  },
  {
   "cell_type": "markdown",
   "metadata": {},
   "source": [
    "\n",
    "## `s3://lovelywater2/README.md`\n",
    "\n",
    "See: [Data Release Wiki](https://github.com/ababaian/serratus/wiki/Access-Data-Release)"
   ]
  },
  {
   "cell_type": "markdown",
   "metadata": {},
   "source": [
    "# Migrate .SraRunInfo files\n"
   ]
  },
  {
   "cell_type": "markdown",
   "metadata": {},
   "source": [
    "## `s3://lovelywater2/sra/README.md`\n",
    "\n",
    "See: [SRA Queries Wiki](https://github.com/ababaian/serratus/wiki/SRA-queries)"
   ]
  },
  {
   "cell_type": "code",
   "execution_count": null,
   "metadata": {},
   "outputs": [],
   "source": [
    "# Performed on EC2\n",
    "# ec2-3-235-55-90.compute-1.amazonaws.com\n",
    "# login as lovelywater2 IAM\n",
    "aws configure\n",
    "aws configure set default.s3.max_concurrent_requests 100\n",
    "\n",
    "# Example \n",
    "aws s3 sync --quiet --acl \"public-read\" \\\n",
    "  s3://serratus-public/lovelywater2/ \\\n",
    "  s3://lovelywater2/\n"
   ]
  },
  {
   "cell_type": "code",
   "execution_count": null,
   "metadata": {},
   "outputs": [],
   "source": [
    "# SRA RunInfo Files\n",
    "# - Invertebrates\n",
    "aws s3 cp \\\n",
    "  s3://serratus-public/notebook/200613_ab//invert_SraRunInfo.csv \\\n",
    "  ./inv_SraRunInfo.csv\n",
    "\n",
    "# - all bat\n",
    "aws s3 cp \\\n",
    "  s3://serratus-public/notebook/200620_ab/bat_SraRunInfo.csv \\\n",
    "  ./bat_SraRunInfo.csv\n",
    "\n",
    "# - virome 2\n",
    "aws s3 cp \\\n",
    "  s3://serratus-public/out/200612_qc/viro2_SraRunInfo.csv \\\n",
    "  ./viro_SraRunInfo.csv\n",
    "  \n",
    "# - scRNA (control)\n",
    "aws s3 cp \\\n",
    "  s3://serratus-public/tmp/scRNA_SraRunInfo.csv \\\n",
    "  ./scRNA_SraRunInfo.csv\n",
    "\n",
    "# download previous md5sum\n",
    "aws s3 cp s3://lovelywater2/sra/sra.md5sum ./\n",
    "md5sum *.csv >> sra.md5sum\n",
    "aws s3 cp sra.md5sum s3://lovelywater2/sra/sra.md5sum\n",
    "\n",
    "# Zip \n",
    "gzip *\n",
    "wc -l *"
   ]
  },
  {
   "cell_type": "markdown",
   "metadata": {},
   "source": [
    "```\n",
    "      2823 bat_SraRunInfo.csv\n",
    "   2193741 inv_SraRunInfo.csv\n",
    "   1096932 scRNA_SraRunInfo.csv\n",
    "     22252 viro_SraRunInfo.csv\n",
    "   3315748 total\n",
    "\n",
    "2d2998b585f6b5035b051b0960692c96  hu_SraRunInfo.csv\n",
    "8224e6cea6afe2d4da73c23d5804ddd4  hu_meta_SraRunInfo.csv\n",
    "499fa3d5a1fa8cf86efce1925c7e27fd  mamm_SraRunInfo.csv\n",
    "a9e14f6043f70e485ebebeb81ace8da7  mu_SraRunInfo.csv\n",
    "e39b50b78465f7e12676ef18d179de5f  vert_SraRunInfo.csv\n",
    "1108e9cda3e07b55b19ece9ee8ac4dca  bat_SraRunInfo.csv\n",
    "ccd2bc301495cddf11a95e63e746ce8f  inv_SraRunInfo.csv\n",
    "d54a86323896e1a0f97c7403b2c85e69  scRNA_SraRunInfo.csv\n",
    "e9222b54cee8a65bc3781589f5cbf642  viro_SraRunInfo.csv\n",
    "```"
   ]
  },
  {
   "cell_type": "code",
   "execution_count": null,
   "metadata": {},
   "outputs": [],
   "source": [
    "aws s3 sync --quiet --acl \"public-read\" \\\n",
    "  ./ \\\n",
    "  s3://lovelywater2/sra/"
   ]
  },
  {
   "cell_type": "markdown",
   "metadata": {},
   "source": [
    "# Migrate data files\n"
   ]
  },
  {
   "cell_type": "code",
   "execution_count": null,
   "metadata": {},
   "outputs": [],
   "source": [
    "aws configure set default.s3.max_concurrent_requests 100\n",
    "\n",
    "# perform these in 4x `screen` to maximize CPU usage\n",
    "# Virome 2\n",
    "aws s3 sync --quiet \\\n",
    "  s3://serratus-public/out/200612_qc/bam/ \\\n",
    "  s3://lovelywater2/bam/ &\n",
    "aws s3 sync --quiet \\\n",
    "  s3://serratus-public/out/200612_qc/summary/ \\\n",
    "  s3://lovelywater2/summary/\n",
    "\n",
    "# Murine\n",
    "aws s3 sync --quiet  --acl \"public-read\" \\\n",
    "  s3://serratus-public/out/200613_mu/bam/ \\\n",
    "  s3://lovelywater2/bam/ &\n",
    "aws s3 sync --quiet  --acl \"public-read\" \\\n",
    "  s3://serratus-public/out/200613_mu/summary/ \\\n",
    "  s3://lovelywater2/summary/\n",
    "\n",
    "# Invertebrates 1\n",
    "aws s3 sync --quiet  --acl \"public-read\" \\\n",
    "  s3://serratus-public/out/200613_inv/bam/ \\\n",
    "  s3://lovelywater2/bam/ &\n",
    "aws s3 sync --quiet  --acl \"public-read\" \\\n",
    "  s3://serratus-public/out/200613_inv/summary/ \\\n",
    "  s3://lovelywater2/summary/\n",
    "  \n",
    "# Invertebrates 2\n",
    "aws s3 sync --quiet  --acl \"public-read\" \\\n",
    "  s3://serratus-public/out/200620_inv/bam/ \\\n",
    "  s3://lovelywater2/bam/ &\n",
    "aws s3 sync --quiet  --acl \"public-read\" \\\n",
    "  s3://serratus-public/out/200620_inv/summary/ \\\n",
    "  s3://lovelywater2/summary/\n",
    "  "
   ]
  },
  {
   "cell_type": "markdown",
   "metadata": {},
   "source": [
    "# README + index.tsv"
   ]
  },
  {
   "cell_type": "code",
   "execution_count": null,
   "metadata": {},
   "outputs": [],
   "source": [
    "# Index\n",
    "# Download a list of all summary files as index\n",
    "aws s3 ls s3://lovelywater2/summary/ > index.tsv\n",
    "\n",
    "aws s3 cp --quiet --acl \"public-read\" \\\n",
    "  index.tsv s3://lovelywater2/index.tsv"
   ]
  },
  {
   "cell_type": "code",
   "execution_count": null,
   "metadata": {},
   "outputs": [],
   "source": [
    "# README\n",
    "# README.md and sra/README.md copied from wiki\n",
    "sudo yum install -y git\n",
    "git clone https://github.com/ababaian/serratus.wiki.git\n",
    "\n",
    "# Copy from wiki to local\n",
    "aws s3 cp --acl \"public-read\" \\\n",
    "  serratus.wiki/Access-Data-Release.md \\\n",
    "  s3://serratus-public/lovelywater2/README.md\n",
    "  \n",
    "aws s3 cp --acl \"public-read\" \\\n",
    "  serratus.wiki/SRA-queries.md \\\n",
    "  s3://serratus-public/lovelywater2/sra/README.md\n",
    "  "
   ]
  },
  {
   "cell_type": "markdown",
   "metadata": {},
   "source": [
    "## cc0 - Data Licensing\n",
    "\n",
    "The `cc0` license was taken from the github template, dumped into a text file \"LICENSE.md\" and will be included in the `s3://lovelywater2` bucket. This is to adhere to the FAIR principals with an explicit license.\n",
    "\n"
   ]
  },
  {
   "cell_type": "code",
   "execution_count": null,
   "metadata": {},
   "outputs": [],
   "source": [
    "aws s3 cp -acl \"public-read\" \\\n",
    "  ./LICENSE.md \\\n",
    "  s3://lovelywater2/LICENSE.md"
   ]
  }
 ],
 "metadata": {
  "kernelspec": {
   "display_name": "Bash",
   "language": "bash",
   "name": "bash"
  },
  "language_info": {
   "codemirror_mode": "shell",
   "file_extension": ".sh",
   "mimetype": "text/x-sh",
   "name": "bash"
  }
 },
 "nbformat": 4,
 "nbformat_minor": 1
}

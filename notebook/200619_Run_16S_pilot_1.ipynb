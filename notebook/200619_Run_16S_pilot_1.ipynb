{
 "cells": [
  {
   "cell_type": "markdown",
   "metadata": {},
   "source": [
    "# Run: Push for 16S pilot\n",
    "\n",
    "```\n",
    "Lead     : ababaian / rce\n",
    "Issue    : \n",
    "Version  : v0.3.4\n",
    "start    : 2020 06 23\n",
    "complete : 2020 06 23\n",
    "files    : ~/serratus/notebook/200623_ab/\n",
    "s3_files : s3://serratus-public/notebook/200623_ab/\n",
    "output   : s3://serratus-public/out/200623_ssu/\n",
    "```\n",
    "\n",
    "### Objectives\n",
    "- Robert provided a ssu test file `v4.75.fa` --> `ssu0.fa`\n",
    "- Test it against all known bat samples `bat_SraRunInfo.csv`\n"
   ]
  },
  {
   "cell_type": "markdown",
   "metadata": {},
   "source": [
    "### Initialize SSU reference\n"
   ]
  },
  {
   "cell_type": "code",
   "execution_count": null,
   "metadata": {},
   "outputs": [],
   "source": [
    "# on EC2\n",
    "sudo yum install -y docker\n",
    "sudo yum install -y git\n",
    "sudo service docker start\n",
    "\n",
    "sudo docker run --rm --entrypoint /bin/bash \\\n",
    "  -it serratusbio/serratus-align:latest\n"
   ]
  },
  {
   "cell_type": "code",
   "execution_count": null,
   "metadata": {},
   "outputs": [],
   "source": [
    "yum install -y unzip wget python3\n",
    "BOWTIEVERSION='2.4.1'\n",
    "\n",
    "wget --quiet https://downloads.sourceforge.net/project/bowtie-bio/bowtie2/\"$BOWTIEVERSION\"/bowtie2-\"$BOWTIEVERSION\"-linux-x86_64.zip &&\\\n",
    "  unzip bowtie2-\"$BOWTIEVERSION\"-linux-x86_64.zip &&\\\n",
    "  rm    bowtie2-\"$BOWTIEVERSION\"-linux-x86_64.zip\n",
    "  \n",
    "  mv bowtie2-\"$BOWTIEVERSION\"*/bowtie2* /usr/local/bin/ &&\\\n",
    "  rm -rf bowtie2-\"$BOWTIEVERSION\"*"
   ]
  },
  {
   "cell_type": "code",
   "execution_count": null,
   "metadata": {},
   "outputs": [],
   "source": [
    "# SeqKit Install\n",
    "yum install -y wget tar gzip less vim unzip\n",
    "wget https://github.com/shenwei356/seqkit/releases/download/v0.12.0/seqkit_linux_amd64.tar.gz &&\\\n",
    "  tar -xvf seqkit* && mv seqkit /usr/local/bin/ &&\\\n",
    "  rm seqkit_linux*"
   ]
  },
  {
   "cell_type": "code",
   "execution_count": null,
   "metadata": {},
   "outputs": [],
   "source": [
    "# Set-up reference genome\n",
    "aws s3 cp s3://serratus-public/seq/ssu0/ssu0.fa ./\n",
    "seqkit rmdup ssu0.fa > ssu0.rmdup.fa\n",
    "mv ssu0.rmdup.fa ssu0.fa\n",
    "\n",
    "# Build index\n",
    "samtools faidx ssu0.fa\n",
    "bowtie2-build ssu0.fa ssu0\n",
    "\n",
    "\n",
    "# Make sumzer file\n",
    "# accession length name family offset length\n",
    "# 110360\n",
    "cut -f 1,2 ssu0.fa.fai > acc.tmp\n",
    "yes \"NA ssu 0 75\" \\\n",
    "  | sed 's/ /\\t/g' - \\\n",
    "  | head -n 110360 \\\n",
    "  > stats.tmp\n",
    "  \n",
    "paste acc.tmp stats.tmp > ssu0.sumzer.tsv\n",
    "rm *.tmp\n",
    "md5sum * > ssu0.md5sum\n",
    "\n",
    "aws s3 sync ./ s3://serratus-public/seq/ssu0/"
   ]
  },
  {
   "cell_type": "markdown",
   "metadata": {},
   "source": [
    "```\n",
    "054fa9e8c2aa3fe0166bef547f5656dd  ssu0.1.bt2\n",
    "d740bc842e3b46e19c68bbbc82c63010  ssu0.2.bt2\n",
    "70c9da6a2dac965deb571f878d7437e2  ssu0.3.bt2\n",
    "b1626f1c62d13336a03bb854baa85091  ssu0.4.bt2\n",
    "7c7a11c2d38004bdd726713a07ffbefe  ssu0.fa\n",
    "19402ce91e927f9413e528d57f9bb7ea  ssu0.fa.fai\n",
    "dece953f2af26ae8a0d0a0b2483d44f6  ssu0.rev.1.bt2\n",
    "368007ea8220ab39bb2a9405eb075494  ssu0.rev.2.bt2\n",
    "b02436b973b2830444d6ab7f513c35ff  ssu0.sumzer.tsv\n",
    "```"
   ]
  },
  {
   "cell_type": "markdown",
   "metadata": {},
   "source": [
    "### Initialize local workspace"
   ]
  },
  {
   "cell_type": "code",
   "execution_count": 1,
   "metadata": {},
   "outputs": [
    {
     "name": "stdout",
     "output_type": "stream",
     "text": [
      "Tue Jun 23 22:44:37 PDT 2020\r\n",
      "fbe06ae227741b28885d419f570b66634b347ec6\r\n"
     ]
    }
   ],
   "source": [
    "# Serratus commit version\n",
    "SERRATUS=\"/home/artem/serratus\"\n",
    "cd $SERRATUS\n",
    "\n",
    "# Create local run directory\n",
    "WORK=\"$SERRATUS/notebook/200623_ab\"\n",
    "mkdir -p $WORK; cd $WORK\n",
    "\n",
    "# S3 notebook path\n",
    "S3_WORK='s3://serratus-public/notebook/200623_ab/'\n",
    "\n",
    "# date and version\n",
    "date\n",
    "git rev-parse HEAD # commit version"
   ]
  },
  {
   "cell_type": "code",
   "execution_count": 3,
   "metadata": {},
   "outputs": [
    {
     "name": "stdout",
     "output_type": "stream",
     "text": [
      "Completed 256.0 KiB/267.5 KiB with 1 file(s) remaining\r",
      "Completed 267.5 KiB/267.5 KiB with 1 file(s) remaining\r",
      "download: s3://lovelywater2/sra/bat_SraRunInfo.csv.gz to ./bat_SraRunInfo.csv.gz\r\n"
     ]
    }
   ],
   "source": [
    "cd $WORK\n",
    "# Download all bat SRA\n",
    "aws s3 cp s3://lovelywater2/sra/bat_SraRunInfo.csv.gz ./\n",
    "gzip -d *gz"
   ]
  },
  {
   "cell_type": "code",
   "execution_count": 17,
   "metadata": {},
   "outputs": [
    {
     "name": "stdout",
     "output_type": "stream",
     "text": [
      "Completed 256.0 KiB/1.3 MiB with 1 file(s) remaining\r",
      "Completed 512.0 KiB/1.3 MiB with 1 file(s) remaining\r",
      "Completed 768.0 KiB/1.3 MiB with 1 file(s) remaining\r",
      "Completed 1.0 MiB/1.3 MiB with 1 file(s) remaining  \r",
      "Completed 1.2 MiB/1.3 MiB with 1 file(s) remaining  \r",
      "Completed 1.3 MiB/1.3 MiB with 1 file(s) remaining  \r",
      "upload: ./bat_SraRunInfo.csv to s3://serratus-public/out/200623_ssu/bat_SraRunInfo.csv\r\n"
     ]
    }
   ],
   "source": [
    "cd $WORK\n",
    "aws s3 cp bat_SraRunInfo.csv s3://serratus-public/out/200623_ssu/"
   ]
  },
  {
   "cell_type": "code",
   "execution_count": 4,
   "metadata": {},
   "outputs": [
    {
     "name": "stdout",
     "output_type": "stream",
     "text": [
      "2823 bat_SraRunInfo.csv\r\n",
      "1108e9cda3e07b55b19ece9ee8ac4dca  bat_SraRunInfo.csv\r\n"
     ]
    }
   ],
   "source": [
    "wc -l *\n",
    "md5sum *"
   ]
  },
  {
   "cell_type": "markdown",
   "metadata": {},
   "source": [
    "### Clean-up sweep"
   ]
  },
  {
   "cell_type": "code",
   "execution_count": 21,
   "metadata": {},
   "outputs": [
    {
     "name": "stdout",
     "output_type": "stream",
     "text": [
      "2459 v1.sra.complete\r\n"
     ]
    }
   ],
   "source": [
    "aws s3 ls s3://serratus-public/out/200623_ssu/summary/  > v1.sra\n",
    "cat v1.sra \\\n",
    "  | sed 's/^...............................//g' - \\\n",
    "  | cut -f1 -d'.' - > v1.sra.complete\n",
    "  \n",
    "wc -l *sra.complete\n",
    "\n",
    "head -n1 bat_SraRunInfo.csv > sra.header\n",
    "grep -vif v1.sra.complete bat_SraRunInfo.csv | tail -n+2 - > v2.tmp\n",
    "\n",
    "cat sra.header v2.tmp > v2_bat_SraRunInfo.csv\n",
    "\n",
    "rm sra.header v1.sra v2.tmp"
   ]
  },
  {
   "cell_type": "code",
   "execution_count": 23,
   "metadata": {},
   "outputs": [
    {
     "name": "stdout",
     "output_type": "stream",
     "text": [
      "   2823 bat_SraRunInfo.csv\r\n",
      "   2459 v1.sra.complete\r\n",
      "    364 v2_bat_SraRunInfo.csv\r\n",
      "   5646 total\r\n"
     ]
    }
   ],
   "source": [
    "wc -l *"
   ]
  },
  {
   "cell_type": "markdown",
   "metadata": {},
   "source": [
    "### Terraform Initialize"
   ]
  },
  {
   "cell_type": "code",
   "execution_count": 24,
   "metadata": {},
   "outputs": [
    {
     "name": "stdout",
     "output_type": "stream",
     "text": [
      "diff --git a/terraform/main/main.tf b/terraform/main/main.tf\r\n",
      "index de2d00d..8c7f922 100644\r\n",
      "--- a/terraform/main/main.tf\r\n",
      "+++ b/terraform/main/main.tf\r\n",
      "@@ -92,7 +92,7 @@ module \"scheduler\" {\r\n",
      "   \r\n",
      "   security_group_ids = [aws_security_group.internal.id]\r\n",
      "   key_name           = var.key_name\r\n",
      "-  instance_type      = \"c5.large\"\r\n",
      "+  instance_type      = \"r5.xlarge\"\r\n",
      "   dockerhub_account  = var.dockerhub_account\r\n",
      "   scheduler_port     = var.scheduler_port\r\n",
      " }\r\n",
      "@@ -105,7 +105,7 @@ module \"monitoring\" {\r\n",
      "   key_name           = var.key_name\r\n",
      "   scheduler_ip       = module.scheduler.private_ip\r\n",
      "   dockerhub_account  = var.dockerhub_account\r\n",
      "-  instance_type      = \"r5.large\"\r\n",
      "+  instance_type      = \"r5.2xlarge\"\r\n",
      " }\r\n",
      " \r\n",
      " // Serratus-dl\r\n",
      "@@ -113,13 +113,13 @@ module \"download\" {\r\n",
      "   source             = \"../worker\"\r\n",
      " \r\n",
      "   desired_size       = 0\r\n",
      "-  max_size           = 200\r\n",
      "+  max_size           = 5000\r\n",
      " \r\n",
      "   dev_cidrs          = var.dev_cidrs\r\n",
      "   security_group_ids = [aws_security_group.internal.id]\r\n",
      " \r\n",
      "-  instance_type      = \"r5.large\" // Mitigate the memory leak in fastq-dump\r\n",
      "-  volume_size        = 250 // Mitigate the storage leak in fastq-dump\r\n",
      "+  instance_type      = \"r5.xlarge\" // r5 mitigates memory leak in fastq-dump\r\n",
      "+  volume_size        = 150         // Mitigate the storage leak in fastq-dump\r\n",
      "   spot_price         = 0.10\r\n",
      " \r\n",
      "   s3_bucket          = module.work_bucket.name\r\n",
      "@@ -137,10 +137,10 @@ module \"align\" {\r\n",
      "   source             = \"../worker\"\r\n",
      " \r\n",
      "   desired_size       = 0\r\n",
      "-  max_size           = 500\r\n",
      "+  max_size           = 10000\r\n",
      "   dev_cidrs          = var.dev_cidrs\r\n",
      "   security_group_ids = [aws_security_group.internal.id]\r\n",
      "-  instance_type      = \"c5.large\" # c5.large\r\n",
      "+  instance_type      = \"c5.xlarge\" # c5.large\r\n",
      "   volume_size        = 10\r\n",
      "   spot_price         = 0.10\r\n",
      "   s3_bucket          = module.work_bucket.name\r\n",
      "@@ -158,7 +158,7 @@ module \"merge\" {\r\n",
      "   source             = \"../worker\"\r\n",
      " \r\n",
      "   desired_size       = 0\r\n",
      "-  max_size           = 50\r\n",
      "+  max_size           = 5000\r\n",
      "   dev_cidrs          = var.dev_cidrs\r\n",
      "   security_group_ids = [aws_security_group.internal.id]\r\n",
      "   instance_type      = \"c5.large\"\r\n",
      "@@ -176,7 +176,7 @@ module \"merge\" {\r\n",
      "   // TODO: the credentials are not properly set-up to\r\n",
      "   //       upload to serratus-public, requires a *Object policy\r\n",
      "   //       on the bucket.\r\n",
      "-  options            = \"-k ${module.work_bucket.name} -b ${var.output_bucket}\"\r\n",
      "+  options            = \"-k ${module.work_bucket.name} -b s3://serratus-public/out/200623_ssu\"\r\n",
      " }\r\n",
      " \r\n",
      " // RESOURCES ##############################\r\n"
     ]
    }
   ],
   "source": [
    "# Terraform customization\n",
    "git diff $SERRATUS/terraform/main/main.tf"
   ]
  },
  {
   "cell_type": "code",
   "execution_count": 26,
   "metadata": {},
   "outputs": [
    {
     "name": "stdout",
     "output_type": "stream",
     "text": [
      "\u001b[0m\u001b[1mInitializing modules...\u001b[0m\r\n",
      "\r\n",
      "\u001b[0m\u001b[1mInitializing the backend...\u001b[0m\r\n",
      "\r\n",
      "\u001b[0m\u001b[1mInitializing provider plugins...\u001b[0m\r\n",
      "\r\n",
      "The following providers do not have any version constraints in configuration,\r\n",
      "so the latest version was installed.\r\n",
      "\r\n",
      "To prevent automatic upgrades to new major versions that may contain breaking\r\n",
      "changes, it is recommended to add version = \"...\" constraints to the\r\n",
      "corresponding provider blocks in configuration, with the constraint strings\r\n",
      "suggested below.\r\n",
      "\r\n",
      "* provider.random: version = \"~> 2.2\"\r\n",
      "\r\n",
      "\u001b[0m\u001b[1m\u001b[32mTerraform has been successfully initialized!\u001b[0m\u001b[32m\u001b[0m\r\n",
      "\u001b[0m\u001b[32m\r\n",
      "You may now begin working with Terraform. Try running \"terraform plan\" to see\r\n",
      "any changes that are required for your infrastructure. All Terraform commands\r\n",
      "should now work.\r\n",
      "\r\n",
      "If you ever set or change modules or backend configuration for Terraform,\r\n",
      "rerun this command to reinitialize your working directory. If you forget, other\r\n",
      "commands will detect it and remind you to do so if necessary.\u001b[0m\r\n",
      "\u001b[0m\u001b[1mmodule.align.data.aws_availability_zones.all: Refreshing state...\u001b[0m\r\n",
      "\u001b[0m\u001b[1mmodule.monitoring.data.aws_region.current: Refreshing state...\u001b[0m\r\n",
      "\u001b[0m\u001b[1mmodule.align.data.aws_region.current: Refreshing state...\u001b[0m\r\n",
      "\u001b[0m\u001b[1mmodule.merge.data.aws_region.current: Refreshing state...\u001b[0m\r\n",
      "\u001b[0m\u001b[1mmodule.scheduler.module.ecs_cluster.data.aws_ami.ecs: Refreshing state...\u001b[0m\r\n",
      "\u001b[0m\u001b[1mmodule.download.data.aws_region.current: Refreshing state...\u001b[0m\r\n",
      "\u001b[0m\u001b[1mmodule.merge.data.aws_ami.amazon_linux_2: Refreshing state...\u001b[0m\r\n",
      "\u001b[0m\u001b[1mmodule.download.data.aws_availability_zones.all: Refreshing state...\u001b[0m\r\n",
      "\u001b[0m\u001b[1mmodule.merge.data.aws_availability_zones.all: Refreshing state...\u001b[0m\r\n",
      "\u001b[0m\u001b[1mmodule.align.data.aws_ami.amazon_linux_2: Refreshing state...\u001b[0m\r\n",
      "\u001b[0m\u001b[1mmodule.monitoring.module.ecs_cluster.data.aws_ami.ecs: Refreshing state...\u001b[0m\r\n",
      "\u001b[0m\u001b[1mmodule.scheduler.data.aws_ami.amazon_linux_2: Refreshing state...\u001b[0m\r\n",
      "\u001b[0m\u001b[1mmodule.scheduler.data.aws_region.current: Refreshing state...\u001b[0m\r\n",
      "\u001b[0m\u001b[1mmodule.download.data.aws_ami.amazon_linux_2: Refreshing state...\u001b[0m\r\n",
      "\u001b[0m\u001b[1mmodule.scheduler.random_password.pg_password: Creating...\u001b[0m\u001b[0m\r\n",
      "\u001b[0m\u001b[1mmodule.scheduler.random_password.pg_password: Creation complete after 0s [id=none]\u001b[0m\u001b[0m\r\n",
      "\u001b[0m\u001b[1mlocal_file.upload_sra: Creating...\u001b[0m\u001b[0m\r\n",
      "\u001b[0m\u001b[1mlocal_file.upload_sra: Creation complete after 0s [id=db5deb3269742410535713cc6c7c3d53cbb21cfe]\u001b[0m\u001b[0m\r\n",
      "\u001b[0m\u001b[1mmodule.align.module.iam_role.aws_iam_role.role: Creating...\u001b[0m\u001b[0m\r\n",
      "\u001b[0m\u001b[1mmodule.monitoring.module.ecs_cluster.aws_iam_role.task_role: Creating...\u001b[0m\u001b[0m\r\n",
      "\u001b[0m\u001b[1mmodule.monitoring.module.ecs_cluster.aws_ecs_cluster.c: Creating...\u001b[0m\u001b[0m\r\n",
      "\u001b[0m\u001b[1mmodule.scheduler.module.ecs_cluster.aws_iam_role.instance_role: Creating...\u001b[0m\u001b[0m\r\n",
      "\u001b[0m\u001b[1mmodule.download.module.iam_role.aws_iam_role.role: Creating...\u001b[0m\u001b[0m\r\n",
      "\u001b[0m\u001b[1mmodule.align.aws_cloudwatch_log_group.g: Creating...\u001b[0m\u001b[0m\r\n",
      "\u001b[0m\u001b[1mmodule.scheduler.module.ecs_cluster.aws_ecs_cluster.c: Creating...\u001b[0m\u001b[0m\r\n",
      "\u001b[0m\u001b[1mmodule.merge.aws_cloudwatch_log_group.g: Creating...\u001b[0m\u001b[0m\r\n",
      "\u001b[0m\u001b[1maws_security_group.internal: Creating...\u001b[0m\u001b[0m\r\n",
      "\u001b[0m\u001b[1mmodule.work_bucket.aws_s3_bucket.work: Creating...\u001b[0m\u001b[0m\r\n",
      "\u001b[0m\u001b[1mmodule.scheduler.module.ecs_cluster.aws_iam_role.instance_role: Creation complete after 1s [id=SerratusEcsInstanceRole-scheduler]\u001b[0m\u001b[0m\r\n",
      "\u001b[0m\u001b[1mmodule.align.module.iam_role.aws_iam_role.role: Creation complete after 1s [id=SerratusIamRole-serratus-align]\u001b[0m\u001b[0m\r\n",
      "\u001b[0m\u001b[1mmodule.monitoring.module.ecs_cluster.aws_iam_role.task_role: Creation complete after 1s [id=SerratusIamRole-monitor]\u001b[0m\u001b[0m\r\n",
      "\u001b[0m\u001b[1mmodule.download.module.iam_role.aws_iam_role.role: Creation complete after 1s [id=SerratusIamRole-serratus-dl]\u001b[0m\u001b[0m\r\n",
      "\u001b[0m\u001b[1mmodule.monitoring.aws_cloudwatch_log_group.g: Creating...\u001b[0m\u001b[0m\r\n",
      "\u001b[0m\u001b[1mmodule.scheduler.aws_cloudwatch_log_group.scheduler: Creating...\u001b[0m\u001b[0m\r\n",
      "\u001b[0m\u001b[1mmodule.scheduler.module.ecs_cluster.aws_iam_role.task_role: Creating...\u001b[0m\u001b[0m\r\n",
      "\u001b[0m\u001b[1mmodule.merge.module.iam_role.aws_iam_role.role: Creating...\u001b[0m\u001b[0m\r\n",
      "\u001b[0m\u001b[1mmodule.align.aws_cloudwatch_log_group.g: Creation complete after 1s [id=serratus-align]\u001b[0m\u001b[0m\r\n",
      "\u001b[0m\u001b[1mmodule.scheduler.module.ecs_cluster.aws_iam_role_policy_attachment.instance_attachment: Creating...\u001b[0m\u001b[0m\r\n",
      "\u001b[0m\u001b[1mmodule.merge.aws_cloudwatch_log_group.g: Creation complete after 1s [id=serratus-merge]\u001b[0m\u001b[0m\r\n",
      "\u001b[0m\u001b[1mmodule.monitoring.module.ecs_cluster.aws_iam_role.instance_role: Creating...\u001b[0m\u001b[0m\r\n",
      "\u001b[0m\u001b[1mmodule.merge.module.iam_role.aws_iam_role.role: Creation complete after 0s [id=SerratusIamRole-serratus-merge]\u001b[0m\u001b[0m\r\n",
      "\u001b[0m\u001b[1mmodule.scheduler.module.ecs_cluster.aws_iam_role.task_role: Creation complete after 0s [id=SerratusIamRole-scheduler]\u001b[0m\u001b[0m\r\n",
      "\u001b[0m\u001b[1mmodule.download.aws_cloudwatch_log_group.g: Creating...\u001b[0m\u001b[0m\r\n",
      "\u001b[0m\u001b[1mmodule.align.module.iam_role.aws_iam_instance_profile.profile: Creating...\u001b[0m\u001b[0m\r\n",
      "\u001b[0m\u001b[1mmodule.scheduler.aws_cloudwatch_log_group.scheduler: Creation complete after 1s [id=serratus-scheduler]\u001b[0m\u001b[0m\r\n",
      "\u001b[0m\u001b[1mmodule.align.module.iam_role.aws_iam_role_policy.cloudwatch: Creating...\u001b[0m\u001b[0m\r\n",
      "\u001b[0m\u001b[1mmodule.scheduler.module.ecs_cluster.aws_iam_role_policy_attachment.instance_attachment: Creation complete after 1s [id=SerratusEcsInstanceRole-scheduler-20200624184859327800000002]\u001b[0m\u001b[0m\r\n",
      "\u001b[0m\u001b[1mmodule.download.module.iam_role.aws_iam_instance_profile.profile: Creating...\u001b[0m\u001b[0m\r\n",
      "\u001b[0m\u001b[1mmodule.monitoring.module.ecs_cluster.aws_iam_role.instance_role: Creation complete after 1s [id=SerratusEcsInstanceRole-monitor]\u001b[0m\u001b[0m\r\n",
      "\u001b[0m\u001b[1mmodule.download.module.iam_role.aws_iam_role_policy.cloudwatch: Creating...\u001b[0m\u001b[0m\r\n",
      "\u001b[0m\u001b[1mmodule.monitoring.aws_cloudwatch_log_group.g: Creation complete after 1s [id=serratus-monitor]\u001b[0m\u001b[0m\r\n",
      "\u001b[0m\u001b[1mmodule.download.module.iam_role.aws_iam_role_policy_attachment.attachment[\"arn:aws:iam::aws:policy/AmazonS3ReadOnlyAccess\"]: Creating...\u001b[0m\u001b[0m\r\n",
      "\u001b[0m\u001b[1mmodule.align.module.iam_role.aws_iam_role_policy.cloudwatch: Creation complete after 0s [id=SerratusIamRole-serratus-align:CloudWatchLogsCreate-serratus-align]\u001b[0m\u001b[0m\r\n",
      "\u001b[0m\u001b[1mmodule.scheduler.module.ecs_cluster.aws_iam_instance_profile.p: Creating...\u001b[0m\u001b[0m\r\n",
      "\u001b[0m\u001b[1mmodule.download.aws_cloudwatch_log_group.g: Creation complete after 2s [id=serratus-dl]\u001b[0m\u001b[0m\r\n",
      "\u001b[0m\u001b[1mmodule.align.module.iam_role.aws_iam_role_policy_attachment.attachment[\"arn:aws:iam::aws:policy/AmazonS3ReadOnlyAccess\"]: Creating...\u001b[0m\u001b[0m\r\n",
      "\u001b[0m\u001b[1mmodule.download.module.iam_role.aws_iam_role_policy.cloudwatch: Creation complete after 1s [id=SerratusIamRole-serratus-dl:CloudWatchLogsCreate-serratus-dl]\u001b[0m\u001b[0m\r\n",
      "\u001b[0m\u001b[1mmodule.merge.module.iam_role.aws_iam_role_policy.cloudwatch: Creating...\u001b[0m\u001b[0m\r\n",
      "\u001b[0m\u001b[1mmodule.download.module.iam_role.aws_iam_role_policy_attachment.attachment[\"arn:aws:iam::aws:policy/AmazonS3ReadOnlyAccess\"]: Creation complete after 1s [id=SerratusIamRole-serratus-dl-20200624184900241900000003]\u001b[0m\u001b[0m\r\n",
      "\u001b[0m\u001b[1mmodule.align.module.iam_role.aws_iam_instance_profile.profile: Creation complete after 2s [id=profile-serratus-align]\u001b[0m\u001b[0m\r\n",
      "\u001b[0m\u001b[1mmodule.merge.module.iam_role.aws_iam_role_policy_attachment.attachment[\"arn:aws:iam::aws:policy/AmazonS3ReadOnlyAccess\"]: Creating...\u001b[0m\u001b[0m\r\n",
      "\u001b[0m\u001b[1mmodule.merge.module.iam_role.aws_iam_instance_profile.profile: Creating...\u001b[0m\u001b[0m\r\n",
      "\u001b[0m\u001b[1mmodule.download.module.iam_role.aws_iam_instance_profile.profile: Creation complete after 1s [id=profile-serratus-dl]\u001b[0m\u001b[0m\r\n",
      "\u001b[0m\u001b[1mmodule.align.aws_iam_role_policy.ec2Describe: Creating...\u001b[0m\u001b[0m\r\n",
      "\u001b[0m\u001b[1mmodule.align.module.iam_role.aws_iam_role_policy_attachment.attachment[\"arn:aws:iam::aws:policy/AmazonS3ReadOnlyAccess\"]: Creation complete after 0s [id=SerratusIamRole-serratus-align-20200624184900944100000004]\u001b[0m\u001b[0m\r\n",
      "\u001b[0m\u001b[1mmodule.monitoring.aws_iam_role_policy_attachment.attachment: Creating...\u001b[0m\u001b[0m\r\n",
      "\u001b[0m\u001b[1mmodule.merge.module.iam_role.aws_iam_role_policy.cloudwatch: Creation complete after 0s [id=SerratusIamRole-serratus-merge:CloudWatchLogsCreate-serratus-merge]\u001b[0m\u001b[0m\r\n",
      "\u001b[0m\u001b[1mmodule.align.aws_iam_role_policy.ec2Terminate: Creating...\u001b[0m\u001b[0m\r\n",
      "\u001b[0m\u001b[1mmodule.merge.module.iam_role.aws_iam_role_policy_attachment.attachment[\"arn:aws:iam::aws:policy/AmazonS3ReadOnlyAccess\"]: Creation complete after 1s [id=SerratusIamRole-serratus-merge-20200624184901043600000005]\u001b[0m\u001b[0m\r\n",
      "\u001b[0m\u001b[1mmodule.align.aws_iam_role_policy.AdjustAutoScaling: Creating...\u001b[0m\u001b[0m\r\n",
      "\u001b[0m\u001b[1mmodule.align.aws_iam_role_policy.ec2Describe: Creation complete after 1s [id=SerratusIamRole-serratus-align:DescribeEC2Instances-serratus-align]\u001b[0m\u001b[0m\r\n",
      "\u001b[0m\u001b[1mmodule.scheduler.module.ecs_cluster.aws_iam_instance_profile.p: Creation complete after 2s [id=instance-profile-serratus-scheduler]\u001b[0m\u001b[0m\r\n",
      "\u001b[0m\u001b[1mmodule.monitoring.aws_iam_role_policy.cloudwatch: Creating...\u001b[0m\u001b[0m\r\n",
      "\u001b[0m\u001b[1mmodule.monitoring.module.ecs_cluster.aws_iam_instance_profile.p: Creating...\u001b[0m\u001b[0m\r\n",
      "\u001b[0m\u001b[1maws_security_group.internal: Creation complete after 4s [id=sg-00cf3d74c7979525a]\u001b[0m\u001b[0m\r\n",
      "\u001b[0m\u001b[1mmodule.monitoring.module.ecs_cluster.aws_iam_role_policy_attachment.instance_attachment: Creating...\u001b[0m\u001b[0m\r\n",
      "\u001b[0m\u001b[1mmodule.merge.module.iam_role.aws_iam_instance_profile.profile: Creation complete after 1s [id=profile-serratus-merge]\u001b[0m\u001b[0m\r\n",
      "\u001b[0m\u001b[1mmodule.download.aws_iam_role_policy.ec2Terminate: Creating...\u001b[0m\u001b[0m\r\n",
      "\u001b[0m\u001b[1mmodule.monitoring.aws_iam_role_policy_attachment.attachment: Creation complete after 1s [id=SerratusIamRole-monitor-20200624184901747600000006]\u001b[0m\u001b[0m\r\n",
      "\u001b[0m\u001b[1mmodule.download.aws_iam_role_policy.ec2Describe: Creating...\u001b[0m\u001b[0m\r\n",
      "\u001b[0m\u001b[1mmodule.align.aws_iam_role_policy.ec2Terminate: Creation complete after 1s [id=SerratusIamRole-serratus-align:TerminateEC2Instances-serratus-align]\u001b[0m\u001b[0m\r\n",
      "\u001b[0m\u001b[1mmodule.download.aws_iam_role_policy.AdjustAutoScaling: Creating...\u001b[0m\u001b[0m\r\n",
      "\u001b[0m\u001b[1mmodule.align.aws_iam_role_policy.AdjustAutoScaling: Creation complete after 0s [id=SerratusIamRole-serratus-align:AdjustAutoScaling-serratus-align]\u001b[0m\u001b[0m\r\n",
      "\u001b[0m\u001b[1mmodule.merge.aws_iam_role_policy.AdjustAutoScaling: Creating...\u001b[0m\u001b[0m\r\n",
      "\u001b[0m\u001b[1mmodule.monitoring.aws_iam_role_policy.cloudwatch: Creation complete after 1s [id=SerratusIamRole-monitor:CloudwatchGetMetrics]\u001b[0m\u001b[0m\r\n",
      "\u001b[0m\u001b[1mmodule.merge.aws_iam_role_policy.ec2Terminate: Creating...\u001b[0m\u001b[0m\r\n",
      "\u001b[0m\u001b[1mmodule.download.aws_iam_role_policy.ec2Terminate: Creation complete after 1s [id=SerratusIamRole-serratus-dl:TerminateEC2Instances-serratus-dl]\u001b[0m\u001b[0m\r\n",
      "\u001b[0m\u001b[1mmodule.monitoring.module.ecs_cluster.aws_iam_role_policy_attachment.instance_attachment: Creation complete after 1s [id=SerratusEcsInstanceRole-monitor-20200624184902181800000007]\u001b[0m\u001b[0m\r\n",
      "\u001b[0m\u001b[1mmodule.merge.aws_iam_role_policy.ec2Describe: Creating...\u001b[0m\u001b[0m\r\n",
      "\u001b[0m\u001b[1mmodule.scheduler.aws_iam_role_policy.scheduler: Creating...\u001b[0m\u001b[0m\r\n",
      "\u001b[0m\u001b[1mmodule.monitoring.module.ecs_cluster.aws_iam_instance_profile.p: Creation complete after 1s [id=instance-profile-serratus-monitor]\u001b[0m\u001b[0m\r\n",
      "\u001b[0m\u001b[1mmodule.scheduler.aws_ecs_task_definition.scheduler: Creating...\u001b[0m\u001b[0m\r\n",
      "\u001b[0m\u001b[1mmodule.download.aws_iam_role_policy.ec2Describe: Creation complete after 1s [id=SerratusIamRole-serratus-dl:DescribeEC2Instances-serratus-dl]\u001b[0m\u001b[0m\r\n",
      "\u001b[0m\u001b[1mmodule.download.aws_iam_role_policy.AdjustAutoScaling: Creation complete after 1s [id=SerratusIamRole-serratus-dl:AdjustAutoScaling-serratus-dl]\u001b[0m\u001b[0m\r\n",
      "\u001b[0m\u001b[1mmodule.merge.aws_iam_role_policy.AdjustAutoScaling: Creation complete after 1s [id=SerratusIamRole-serratus-merge:AdjustAutoScaling-serratus-merge]\u001b[0m\u001b[0m\r\n",
      "\u001b[0m\u001b[1mmodule.merge.aws_iam_role_policy.ec2Terminate: Creation complete after 0s [id=SerratusIamRole-serratus-merge:TerminateEC2Instances-serratus-merge]\u001b[0m\u001b[0m\r\n",
      "\u001b[0m\u001b[1mmodule.scheduler.aws_iam_role_policy.scheduler: Creation complete after 0s [id=SerratusIamRole-scheduler:DescribeInstances-scheduler]\u001b[0m\u001b[0m\r\n",
      "\u001b[0m\u001b[1mmodule.merge.aws_iam_role_policy.ec2Describe: Creation complete after 0s [id=SerratusIamRole-serratus-merge:DescribeEC2Instances-serratus-merge]\u001b[0m\u001b[0m\r\n",
      "\u001b[0m\u001b[1mmodule.scheduler.aws_ecs_task_definition.scheduler: Creation complete after 1s [id=scheduler]\u001b[0m\u001b[0m\r\n",
      "\u001b[0m\u001b[1mmodule.work_bucket.aws_s3_bucket.work: Creation complete after 7s [id=tf-serratus-work-20200624184857677000000001]\u001b[0m\u001b[0m\r\n",
      "\u001b[0m\u001b[1mmodule.work_bucket.aws_s3_bucket_metric.prefix[\"out\"]: Creating...\u001b[0m\u001b[0m\r\n",
      "\u001b[0m\u001b[1mmodule.work_bucket.aws_s3_bucket_metric.full: Creating...\u001b[0m\u001b[0m\r\n",
      "\u001b[0m\u001b[1mmodule.work_bucket.aws_s3_bucket_metric.prefix[\"fq-blocks\"]: Creating...\u001b[0m\u001b[0m\r\n",
      "\u001b[0m\u001b[1mmodule.merge.aws_iam_role_policy.s3_write: Creating...\u001b[0m\u001b[0m\r\n",
      "\u001b[0m\u001b[1mmodule.download.aws_iam_role_policy.s3_write: Creating...\u001b[0m\u001b[0m\r\n",
      "\u001b[0m\u001b[1mmodule.align.aws_iam_role_policy.s3_delete[0]: Creating...\u001b[0m\u001b[0m\r\n",
      "\u001b[0m\u001b[1mmodule.work_bucket.aws_s3_bucket_metric.prefix[\"bam-blocks\"]: Creating...\u001b[0m\u001b[0m\r\n",
      "\u001b[0m\u001b[1mmodule.merge.aws_iam_role_policy.s3_delete[0]: Creating...\u001b[0m\u001b[0m\r\n",
      "\u001b[0m\u001b[1mmodule.work_bucket.aws_s3_bucket_metric.prefix[\"bam-blocks\"]: Creation complete after 1s [id=tf-serratus-work-20200624184857677000000001:prefix-bam-blocks]\u001b[0m\u001b[0m\r\n",
      "\u001b[0m\u001b[1mmodule.work_bucket.aws_s3_bucket_metric.full: Creation complete after 1s [id=tf-serratus-work-20200624184857677000000001:full]\u001b[0m\u001b[0m\r\n",
      "\u001b[0m\u001b[1mmodule.align.aws_iam_role_policy.s3_write: Creating...\u001b[0m\u001b[0m\r\n",
      "\u001b[0m\u001b[1mmodule.merge.aws_iam_role_policy.s3_delete[0]: Creation complete after 1s [id=SerratusIamRole-serratus-merge:S3DeleteData-serratus-merge]\u001b[0m\u001b[0m\r\n",
      "\u001b[0m\u001b[1mmodule.align.aws_iam_role_policy.s3_delete[0]: Creation complete after 1s [id=SerratusIamRole-serratus-align:S3DeleteData-serratus-align]\u001b[0m\u001b[0m\r\n",
      "\u001b[0m\u001b[1mmodule.merge.aws_iam_role_policy.s3_write: Creation complete after 1s [id=SerratusIamRole-serratus-merge:S3WriteData-serratus-merge]\u001b[0m\u001b[0m\r\n",
      "\u001b[0m\u001b[1mmodule.download.aws_iam_role_policy.s3_write: Creation complete after 1s [id=SerratusIamRole-serratus-dl:S3WriteData-serratus-dl]\u001b[0m\u001b[0m\r\n",
      "\u001b[0m\u001b[1mmodule.work_bucket.aws_s3_bucket_metric.prefix[\"fq-blocks\"]: Creation complete after 1s [id=tf-serratus-work-20200624184857677000000001:prefix-fq-blocks]\u001b[0m\u001b[0m\r\n",
      "\u001b[0m\u001b[1mmodule.work_bucket.aws_s3_bucket_metric.prefix[\"out\"]: Creation complete after 1s [id=tf-serratus-work-20200624184857677000000001:prefix-out]\u001b[0m\u001b[0m\r\n",
      "\u001b[0m\u001b[1mmodule.align.aws_iam_role_policy.s3_write: Creation complete after 0s [id=SerratusIamRole-serratus-align:S3WriteData-serratus-align]\u001b[0m\u001b[0m\r\n",
      "\u001b[0m\u001b[1mmodule.monitoring.module.ecs_cluster.aws_ecs_cluster.c: Still creating... [10s elapsed]\u001b[0m\u001b[0m\r\n",
      "\u001b[0m\u001b[1mmodule.scheduler.module.ecs_cluster.aws_ecs_cluster.c: Still creating... [10s elapsed]\u001b[0m\u001b[0m\r\n",
      "\u001b[0m\u001b[1mmodule.scheduler.module.ecs_cluster.aws_ecs_cluster.c: Creation complete after 11s [id=arn:aws:ecs:us-east-1:797308887321:cluster/serratus-scheduler]\u001b[0m\u001b[0m\r\n",
      "\u001b[0m\u001b[1mmodule.scheduler.aws_ecs_service.scheduler: Creating...\u001b[0m\u001b[0m\r\n",
      "\u001b[0m\u001b[1mmodule.scheduler.module.ecs_cluster.aws_instance.i: Creating...\u001b[0m\u001b[0m\r\n",
      "\u001b[0m\u001b[1mmodule.monitoring.module.ecs_cluster.aws_ecs_cluster.c: Creation complete after 11s [id=arn:aws:ecs:us-east-1:797308887321:cluster/serratus-monitor]\u001b[0m\u001b[0m\r\n",
      "\u001b[0m\u001b[1mmodule.monitoring.module.ecs_cluster.aws_instance.i: Creating...\u001b[0m\u001b[0m\r\n",
      "\u001b[0m\u001b[1mmodule.scheduler.aws_ecs_service.scheduler: Creation complete after 1s [id=arn:aws:ecs:us-east-1:797308887321:service/serratus-scheduler]\u001b[0m\u001b[0m\r\n",
      "\u001b[0m\u001b[1mmodule.scheduler.module.ecs_cluster.aws_instance.i: Still creating... [10s elapsed]\u001b[0m\u001b[0m\r\n",
      "\u001b[0m\u001b[1mmodule.monitoring.module.ecs_cluster.aws_instance.i: Still creating... [10s elapsed]\u001b[0m\u001b[0m\r\n",
      "\u001b[0m\u001b[1mmodule.scheduler.module.ecs_cluster.aws_instance.i: Creation complete after 16s [id=i-02ec4be2092457759]\u001b[0m\u001b[0m\r\n",
      "\u001b[0m\u001b[1mmodule.monitoring.module.ecs_cluster.aws_instance.i: Creation complete after 16s [id=i-03a9712a56ecacf9f]\u001b[0m\u001b[0m\r\n",
      "\u001b[0m\u001b[1mmodule.monitoring.aws_eip.monitor: Creating...\u001b[0m\u001b[0m\r\n",
      "\u001b[0m\u001b[1mmodule.scheduler.aws_eip.sch: Creating...\u001b[0m\u001b[0m\r\n",
      "\u001b[0m\u001b[1mmodule.monitoring.aws_ecs_task_definition.monitor: Creating...\u001b[0m\u001b[0m\r\n",
      "\u001b[0m\u001b[1mmodule.monitoring.aws_ecs_task_definition.monitor: Creation complete after 1s [id=monitor]\u001b[0m\u001b[0m\r\n",
      "\u001b[0m\u001b[1mmodule.monitoring.aws_ecs_service.monitor: Creating...\u001b[0m\u001b[0m\r\n",
      "\u001b[0m\u001b[1mmodule.monitoring.aws_ecs_service.monitor: Creation complete after 1s [id=arn:aws:ecs:us-east-1:797308887321:service/serratus-monitor]\u001b[0m\u001b[0m\r\n",
      "\u001b[0m\u001b[1mmodule.scheduler.aws_eip.sch: Creation complete after 3s [id=eipalloc-0f6bbb10fd84717ad]\u001b[0m\u001b[0m\r\n",
      "\u001b[0m\u001b[1mmodule.align.aws_launch_configuration.worker: Creating...\u001b[0m\u001b[0m\r\n",
      "\u001b[0m\u001b[1mmodule.download.aws_launch_configuration.worker: Creating...\u001b[0m\u001b[0m\r\n",
      "\u001b[0m\u001b[1mmodule.merge.aws_launch_configuration.worker: Creating...\u001b[0m\u001b[0m\r\n",
      "\u001b[0m\u001b[1mmodule.monitoring.aws_eip.monitor: Creation complete after 3s [id=eipalloc-0a430fdd6e76c298d]\u001b[0m\u001b[0m\r\n",
      "\u001b[0m\u001b[1mlocal_file.create_tunnel: Creating...\u001b[0m\u001b[0m\r\n",
      "\u001b[0m\u001b[1mlocal_file.hosts: Creating...\u001b[0m\u001b[0m\r\n",
      "\u001b[0m\u001b[1mlocal_file.create_tunnel: Creation complete after 0s [id=287e21a86a45739442f7916e16c65ef88cece389]\u001b[0m\u001b[0m\r\n",
      "\u001b[0m\u001b[1mlocal_file.hosts: Creation complete after 0s [id=daa11f06230436f820e6f26a61fd0b81921a8cbd]\u001b[0m\u001b[0m\r\n",
      "\u001b[0m\u001b[1mmodule.align.aws_launch_configuration.worker: Creation complete after 2s [id=serratus-align-2020062418492904430000000c]\u001b[0m\u001b[0m\r\n",
      "\u001b[0m\u001b[1mmodule.merge.aws_launch_configuration.worker: Creation complete after 2s [id=serratus-merge-2020062418492888340000000b]\u001b[0m\u001b[0m\r\n",
      "\u001b[0m\u001b[1mmodule.download.aws_launch_configuration.worker: Creation complete after 2s [id=serratus-dl-2020062418492887500000000a]\u001b[0m\u001b[0m\r\n",
      "\u001b[0m\u001b[1mmodule.align.aws_autoscaling_group.worker: Creating...\u001b[0m\u001b[0m\r\n",
      "\u001b[0m\u001b[1mmodule.download.aws_autoscaling_group.worker: Creating...\u001b[0m\u001b[0m\r\n",
      "\u001b[0m\u001b[1mmodule.merge.aws_autoscaling_group.worker: Creating...\u001b[0m\u001b[0m\r\n",
      "\u001b[0m\u001b[1mmodule.merge.aws_autoscaling_group.worker: Creation complete after 2s [id=serratus-merge-2020062418492888340000000b]\u001b[0m\u001b[0m\r\n",
      "\u001b[0m\u001b[1mmodule.merge.aws_autoscaling_policy.worker: Creating...\u001b[0m\u001b[0m\r\n",
      "\u001b[0m\u001b[1mmodule.align.aws_autoscaling_group.worker: Creation complete after 2s [id=serratus-align-2020062418492904430000000c]\u001b[0m\u001b[0m\r\n",
      "\u001b[0m\u001b[1mmodule.download.aws_autoscaling_group.worker: Creation complete after 2s [id=serratus-dl-2020062418492887500000000a]\u001b[0m\u001b[0m\r\n",
      "\u001b[0m\u001b[1mmodule.align.aws_autoscaling_policy.worker: Creating...\u001b[0m\u001b[0m\r\n",
      "\u001b[0m\u001b[1mmodule.download.aws_autoscaling_policy.worker: Creating...\u001b[0m\u001b[0m\r\n",
      "\u001b[0m\u001b[1mmodule.align.aws_autoscaling_policy.worker: Creation complete after 1s [id=serratus-align-2020062418492904430000000c]\u001b[0m\u001b[0m\r\n",
      "\u001b[0m\u001b[1mmodule.download.aws_autoscaling_policy.worker: Creation complete after 1s [id=serratus-dl-2020062418492887500000000a]\u001b[0m\u001b[0m\r\n",
      "\u001b[0m\u001b[1mmodule.merge.aws_autoscaling_policy.worker: Creation complete after 1s [id=serratus-merge-2020062418492888340000000b]\u001b[0m\u001b[0m\r\n",
      "\u001b[33m\r\n",
      "\u001b[1m\u001b[33mWarning: \u001b[0m\u001b[0m\u001b[1mValue for undeclared variable\u001b[0m\r\n",
      "\r\n",
      "\u001b[0mThe root module does not declare a variable named \"output_bucket\" but a value\r\n",
      "was found in file \"terraform.tfvars\". To use this value, add a \"variable\"\r\n",
      "block to the configuration.\r\n",
      "\r\n",
      "Using a variables file to set an undeclared variable is deprecated and will\r\n",
      "become an error in a future release. If you wish to provide certain \"global\"\r\n",
      "settings to all configurations in your organization, use TF_VAR_...\r\n",
      "environment variables to set these instead.\r\n",
      "\u001b[0m\u001b[0m\r\n",
      "\u001b[0m\u001b[1m\u001b[32m\r\n",
      "Apply complete! Resources: 71 added, 0 changed, 0 destroyed.\u001b[0m\r\n",
      "\u001b[0m\u001b[1m\u001b[32m\r\n",
      "Outputs:\r\n",
      "\r\n",
      "align_asg_name = serratus-align-2020062418492904430000000c\r\n",
      "dl_asg_name = serratus-dl-2020062418492887500000000a\r\n",
      "help = Run ./create_tunnels.sh to create SSH tunnels for all services.\r\n",
      "\r\n",
      "merge_asg_name = serratus-merge-2020062418492888340000000b\r\n",
      "monitor_dns = ec2-3-229-19-51.compute-1.amazonaws.com\r\n",
      "scheduler_dns = ec2-23-23-99-110.compute-1.amazonaws.com\r\n",
      "scheduler_pg_password = jXUEM6Gkx96geax9\u001b[0m\r\n"
     ]
    }
   ],
   "source": [
    "# Initialize terraform\n",
    "TF=$SERRATUS/terraform/main\n",
    "cd $TF\n",
    "terraform init\n",
    "\n",
    "# Launch Terraform Cluster\n",
    "# Initialize the serratus cluster with minimal nodes\n",
    "terraform apply -auto-approve"
   ]
  },
  {
   "cell_type": "markdown",
   "metadata": {},
   "source": [
    "### Initialize Serratus"
   ]
  },
  {
   "cell_type": "code",
   "execution_count": 27,
   "metadata": {
    "scrolled": true
   },
   "outputs": [
    {
     "name": "stdout",
     "output_type": "stream",
     "text": [
      "Warning: Permanently added 'ec2-3-229-19-51.compute-1.amazonaws.com,3.229.19.51' (ECDSA) to the list of known hosts.\r",
      "\r\n",
      "Warning: Permanently added 'ec2-23-23-99-110.compute-1.amazonaws.com,23.23.99.110' (ECDSA) to the list of known hosts.\r",
      "\r\n",
      "Tunnels created:\r\n",
      "    localhost:3000 = grafana\r\n",
      "    localhost:9090 = prometheus\r\n",
      "    localhost:5432 = postgres\r\n",
      "    localhost:8000 = scheduler\r\n"
     ]
    }
   ],
   "source": [
    "cd $TF\n",
    "\n",
    "# Open SSH tunnels to the monitor\n",
    "./create_tunnels.sh\n",
    "\n",
    "# If you get an error on port\n",
    "# run:\n",
    "# ps aux | grep ssh\n",
    "# sudo kill <PID of SSH>"
   ]
  },
  {
   "cell_type": "code",
   "execution_count": 8,
   "metadata": {},
   "outputs": [
    {
     "name": "stdout",
     "output_type": "stream",
     "text": [
      "/home/artem/serratus/notebook/200623_ab/bat_SraRunInfo.csv\r\n",
      "2823 /home/artem/serratus/notebook/200623_ab/bat_SraRunInfo.csv\r\n"
     ]
    }
   ],
   "source": [
    "# Confirm the upload file -- Mouse\n",
    "BATCH_SRA=$WORK/bat_SraRunInfo.csv\n",
    "echo  $BATCH_SRA\n",
    "wc -l $BATCH_SRA"
   ]
  },
  {
   "cell_type": "code",
   "execution_count": 10,
   "metadata": {},
   "outputs": [
    {
     "name": "stdout",
     "output_type": "stream",
     "text": [
      "Loading SRARunInfo into scheduler \r\n",
      "  File: /home/artem/serratus/notebook/200623_ab/bat_SraRunInfo.csv\r\n",
      "  date: Tue Jun 23 22:53:41 PDT 2020\r\n",
      "  wc  : 2823 /home/artem/serratus/notebook/200623_ab/bat_SraRunInfo.csv\r\n",
      "  md5 : 1108e9cda3e07b55b19ece9ee8ac4dca  /home/artem/serratus/notebook/200623_ab/bat_SraRunInfo.csv\r\n",
      "\r\n",
      "\r\n",
      "--------------------------\r\n",
      "tmp.chunk00\r\n",
      "2823 tmp.chunk00_sraRunInfo.csv\r\n",
      "1fb31014a8b828b4a4ff08ea27b78fe7  tmp.chunk00_sraRunInfo.csv\r\n",
      "{\"inserted_rows\":2821,\"total_rows\":2821}\r\n",
      "\r\n",
      "\r\n",
      " uploadSRA complete.\r\n"
     ]
    }
   ],
   "source": [
    "# Upload SraRunInfo.csv into Serratus\n",
    "cd $TF\n",
    "./uploadSRA.sh $BATCH_SRA"
   ]
  },
  {
   "cell_type": "code",
   "execution_count": 28,
   "metadata": {},
   "outputs": [
    {
     "name": "stdout",
     "output_type": "stream",
     "text": [
      "/home/artem/serratus/notebook/200623_ab/v2_bat_SraRunInfo.csv\r\n",
      "364 /home/artem/serratus/notebook/200623_ab/v2_bat_SraRunInfo.csv\r\n"
     ]
    }
   ],
   "source": [
    "# Confirm the upload file -- V2\n",
    "BATCH_SRA=$WORK/v2_bat_SraRunInfo.csv\n",
    "echo  $BATCH_SRA\n",
    "wc -l $BATCH_SRA"
   ]
  },
  {
   "cell_type": "code",
   "execution_count": 30,
   "metadata": {},
   "outputs": [
    {
     "name": "stdout",
     "output_type": "stream",
     "text": [
      "Loading SRARunInfo into scheduler \r\n",
      "  File: /home/artem/serratus/notebook/200623_ab/v2_bat_SraRunInfo.csv\r\n",
      "  date: Wed Jun 24 12:03:22 PDT 2020\r\n",
      "  wc  : 364 /home/artem/serratus/notebook/200623_ab/v2_bat_SraRunInfo.csv\r\n",
      "  md5 : 1d19e0476b3fa69f3948ca11501d66d9  /home/artem/serratus/notebook/200623_ab/v2_bat_SraRunInfo.csv\r\n",
      "\r\n",
      "\r\n",
      "--------------------------\r\n",
      "tmp.chunk00\r\n",
      "364 tmp.chunk00_sraRunInfo.csv\r\n",
      "64ded563ca86269e6723cd7dc713028e  tmp.chunk00_sraRunInfo.csv\r\n",
      "{\"inserted_rows\":362,\"total_rows\":362}\r\n",
      "\r\n",
      "\r\n",
      " uploadSRA complete.\r\n"
     ]
    }
   ],
   "source": [
    "# Upload SraRunInfo.csv into Serratus\n",
    "cd $TF\n",
    "./uploadSRA.sh $BATCH_SRA"
   ]
  },
  {
   "cell_type": "markdown",
   "metadata": {},
   "source": [
    "## Run Serratus"
   ]
  },
  {
   "cell_type": "code",
   "execution_count": 31,
   "metadata": {},
   "outputs": [
    {
     "name": "stdout",
     "output_type": "stream",
     "text": [
      "  Cluster Config File: \r\n",
      "{\r\n",
      "  \"ALIGN_ARGS\": \"--very-sensitive-local\",\r\n",
      "  \"ALIGN_MAX_INCREASE\": 50,\r\n",
      "  \"ALIGN_SCALING_CONSTANT\": 0.1,\r\n",
      "  \"ALIGN_SCALING_ENABLE\": true,\r\n",
      "  \"ALIGN_SCALING_MAX\": 0,\r\n",
      "  \"CLEAR_INTERVAL\": 600000,\r\n",
      "  \"DL_ARGS\": \"\",\r\n",
      "  \"DL_MAX_INCREASE\": 15,\r\n",
      "  \"DL_SCALING_CONSTANT\": 0.1,\r\n",
      "  \"DL_SCALING_ENABLE\": true,\r\n",
      "  \"DL_SCALING_MAX\": 0,\r\n",
      "  \"GENOME\": \"ssu0\",\r\n",
      "  \"MERGE_ARGS\": \"\",\r\n",
      "  \"MERGE_MAX_INCREASE\": 15,\r\n",
      "  \"MERGE_SCALING_CONSTANT\": 0.1,\r\n",
      "  \"MERGE_SCALING_ENABLE\": true,\r\n",
      "  \"MERGE_SCALING_MAX\": 0,\r\n",
      "  \"SCALING_INTERVAL\": 120,\r\n",
      "  \"VIRTUAL_SCALING_INTERVAL\": 35\r\n",
      "}\r\n",
      "\r\n",
      "  % Total    % Received % Xferd  Average Speed   Time    Time     Time  Current\r\n",
      "                                 Dload  Upload   Total   Spent    Left  Speed\r\n",
      "\r",
      "  0     0    0     0    0     0      0      0 --:--:-- --:--:-- --:--:--     0{\"ALIGN_ARGS\":\"--very-sensitive-local\",\"ALIGN_MAX_INCREASE\":50,\"ALIGN_SCALING_CONSTANT\":0.1,\"ALIGN_SCALING_ENABLE\":true,\"ALIGN_SCALING_MAX\":0,\"CLEAR_INTERVAL\":600000,\"DL_ARGS\":\"\",\"DL_MAX_INCREASE\":15,\"DL_SCALING_CONSTANT\":0.1,\"DL_SCALING_ENABLE\":true,\"DL_SCALING_MAX\":0,\"GENOME\":\"ssu0\",\"MERGE_ARGS\":\"\",\"MERGE_MAX_INCREASE\":15,\"MERGE_SCALING_CONSTANT\":0.1,\"MERGE_SCALING_ENABLE\":true,\"MERGE_SCALING_MAX\":0,\"SCALING_INTERVAL\":120,\"VIRTUAL_SCALING_INTERVAL\":35}\r\n",
      "\r",
      "100   994  100   459  100   535   1681   1959 --:--:-- --:--:-- --:--:--  3654\r\n"
     ]
    }
   ],
   "source": [
    "# Set Cluster Parameters =============================\n",
    "## get Config File (if it doesn't exist)\n",
    "# curl localhost:8000/config | jq > serratus-config.json\n",
    "#\n",
    "cd $TF\n",
    "# Make local changes to config file\n",
    "echo \"  Cluster Config File: \"\n",
    "cat serratus-config.json\n",
    "echo \"\"\n",
    "echo \"\"\n",
    "# Re-upload config file\n",
    "curl -T serratus-config.json localhost:8000/config"
   ]
  },
  {
   "cell_type": "code",
   "execution_count": null,
   "metadata": {},
   "outputs": [],
   "source": []
  },
  {
   "cell_type": "markdown",
   "metadata": {},
   "source": [
    "### Error handling"
   ]
  },
  {
   "cell_type": "code",
   "execution_count": null,
   "metadata": {},
   "outputs": [],
   "source": [
    "## Stop postgres if it's running \n",
    "# systemctl stop postgresql\n",
    "\n",
    "## Connect to postgres\n",
    "# psql -h localhost postgres postgres\n",
    "\n",
    "\n",
    "#  psql -h localhost postgres postgres -c \"DELETE FROM blocks WHERE state = 'done';\"\n",
    "\n",
    "### ACCESSION OPERATIONS\n",
    "## Reset SPLITTING accessions to NEW\n",
    "# UPDATE acc SET state = 'new' WHERE state = 'splitting';\n",
    "\n",
    "## Reset SPLIT_ERR accessions to NEW\n",
    "## (repeated failures can be missing SRA data)\n",
    "# UPDATE acc SET state = 'new' WHERE state = 'split_err';\n",
    "\n",
    "## Reset MERGE_ERR accessions to SPLIT_DONE\n",
    "# UPDATE acc SET state = 'split_done' WHERE state = 'merge_err';\n",
    "\n",
    "## Clear DONE Accessions (ONLY ON COMPLETION)\n",
    "# DELETE FROM acc WHERE state = 'merge_done';\n",
    "\n",
    "### BLOCK OPERATIONS\n",
    "\n",
    "##  Reset FAIL blocks to NEW\n",
    "# UPDATE blocks SET state = 'new' WHERE state = 'fail';\n",
    "\n",
    "# Reset ALIGNING blocks to NEW\n",
    "# UPDATE blocks SET state = 'new' WHERE state = 'aligning';\n",
    "\n",
    "# Clear Done\n",
    "# DELETE FROM blocks WHERE state = 'done';\n",
    "\n",
    "# RESET STATE\n",
    "# DELETE FROM blocks WHERE state = 'done';\n",
    "# DELETE FROM blocks WHERE state = 'fail';\n",
    "#\n",
    "#\n",
    "# DELETE FROM acc WHERE state = 'split_err';\n",
    "# DELETE FROM acc WHERE state = 'merging';\n",
    "# DELETE FROM acc WHERE state = 'merge_err';\n",
    "# DELETE FROM acc WHERE state = 'split_done';\n"
   ]
  },
  {
   "cell_type": "markdown",
   "metadata": {},
   "source": [
    "## Output\n"
   ]
  },
  {
   "cell_type": "code",
   "execution_count": null,
   "metadata": {},
   "outputs": [],
   "source": []
  }
 ],
 "metadata": {
  "kernelspec": {
   "display_name": "Bash",
   "language": "bash",
   "name": "bash"
  },
  "language_info": {
   "codemirror_mode": "shell",
   "file_extension": ".sh",
   "mimetype": "text/x-sh",
   "name": "bash"
  }
 },
 "nbformat": 4,
 "nbformat_minor": 1
}

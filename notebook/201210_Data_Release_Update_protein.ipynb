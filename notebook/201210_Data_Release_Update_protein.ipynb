{
 "cells": [
  {
   "cell_type": "markdown",
   "metadata": {},
   "source": [
    "# Data Release Update - v201210\n",
    "```\n",
    "Lead     : ababaian\n",
    "Issue    : n/a\n",
    "start    : 2020 12 10\n",
    "complete : 2020 12 11\n",
    "files    : ~/serratus/notebook/201210/\n",
    "s3 files : s3://serratus-public/notebook/201210/\n",
    "```\n",
    "\n",
    "## Introduction\n",
    "\n",
    "What was a semi-pilot run of `diamond` based protein detection using an updated protein reference set is going into semi-production (at least for now).\n",
    "\n",
    "The reference set is based off of `protref5` with a few viral families; of note is Quenyaviridae and Dicistroviridae.\n",
    "\n",
    "This includes `.psummary`, `.pro`, and `,sumbler` files; I will only migrate `psummary` and `pro` as the `sumbler` are not really production-ready.\n",
    "\n",
    "\n",
    "## Release updates\n",
    "\n",
    "- `200828_pviro5`: Viromes\n",
    "- `200830_pmeta5`: Metagenomes\n",
    "- `200905_pvert5` : Extended Virome, vertebrates and mammals\n"
   ]
  },
  {
   "cell_type": "markdown",
   "metadata": {},
   "source": [
    "## `s3://lovelywater2/README.md`\n",
    "\n",
    "***Pending update***\n",
    "\n",
    "See: [Data Release Wiki](https://github.com/ababaian/serratus/wiki/Access-Data-Release)\n",
    "\n",
    "\n",
    "## `s3://lovelywater2/sra/README.md`\n",
    "\n",
    "***Pending update***\n",
    "\n",
    "See: [SRA Queries Wiki](https://github.com/ababaian/serratus/wiki/SRA-queries)"
   ]
  },
  {
   "cell_type": "markdown",
   "metadata": {},
   "source": [
    "Update plan\n",
    "\n",
    "```\n",
    "s3://lovelywater2/     #\n",
    "├── bam/              #\n",
    "├── pro/              # .pro     : Translated-nucleotide alignments (diamond)\n",
    "├── psummary/         # .psummary: Protein alignment summaries  \n",
    "├── seq/              #     \n",
    "│   └─── protref5/    # Protien reference data\n",
    "├── sra/              # \n",
    "│   └─── README.md    # \n",
    "├── summary/          #   \n",
    "├── summary2/         #   \n",
    "├ index.tsv           #\n",
    "├ pindex.tsv          # Index file of completed protein SRA accessions\n",
    "└ README.md           # This README.md\n",
    "```"
   ]
  },
  {
   "cell_type": "markdown",
   "metadata": {},
   "source": [
    "## Materials and Methods\n"
   ]
  },
  {
   "cell_type": "markdown",
   "metadata": {},
   "source": [
    "### System Initialization\n"
   ]
  },
  {
   "cell_type": "code",
   "execution_count": 1,
   "metadata": {},
   "outputs": [
    {
     "name": "stdout",
     "output_type": "stream",
     "text": [
      "Thu Dec 10 21:26:48 PST 2020\n"
     ]
    }
   ],
   "source": [
    "# EC2 C5.xlarge instance fired up\n",
    "date"
   ]
  },
  {
   "cell_type": "markdown",
   "metadata": {},
   "source": [
    "## Migration to lovelywater2\n"
   ]
  },
  {
   "cell_type": "code",
   "execution_count": null,
   "metadata": {},
   "outputs": [],
   "source": [
    "aws configure set default.s3.max_concurrent_requests 100\n",
    "\n",
    "# perform these in 3x `screen` to maximize CPU usage\n",
    "\n",
    "# Viromes\n",
    "aws s3 sync --quiet  --acl \"public-read\" \\\n",
    "  s3://serratus-public/out/200828_pviro5/pro/ \\\n",
    "  s3://lovelywater2/pro/ &\n",
    "aws s3 sync --quiet  --acl \"public-read\" \\\n",
    "  s3://serratus-public/out/200828_pviro5/psummary/ \\\n",
    "  s3://lovelywater2/psummary/\n",
    "echo done\n",
    "\n",
    "\n",
    "# Metagenomes\n",
    "aws s3 sync --quiet  --acl \"public-read\" \\\n",
    "  s3://serratus-public/out/200830_pmeta5/pro/ \\\n",
    "  s3://lovelywater2/pro/\n",
    "aws s3 sync --quiet  --acl \"public-read\" \\\n",
    "  s3://serratus-public/out/200830_pmeta5/psummary/ \\\n",
    "  s3://lovelywater2/psummary/\n",
    "echo done\n",
    "\n",
    "# Vertebrates\n",
    "aws s3 sync --quiet  --acl \"public-read\" \\\n",
    "  s3://serratus-public/out/200905_pvert5/pro/ \\\n",
    "  s3://lovelywater2/pro/\n",
    "aws s3 sync --quiet  --acl \"public-read\" \\\n",
    "  s3://serratus-public/out/200905_pvert5/psummary/ \\\n",
    "  s3://lovelywater2/psummary/\n",
    "echo done  "
   ]
  },
  {
   "cell_type": "code",
   "execution_count": null,
   "metadata": {},
   "outputs": [],
   "source": [
    "# Create pindex file\n",
    "aws s3 ls s3://lovelywater2/psummary/ > pindex.tsv\n",
    "\n",
    "aws s3 sync --quiet  --acl \"public-read\" \\\n",
    "    pindex.tsv s3://lovelywater2/"
   ]
  }
 ],
 "metadata": {
  "kernelspec": {
   "display_name": "Bash",
   "language": "bash",
   "name": "bash"
  },
  "language_info": {
   "codemirror_mode": "shell",
   "file_extension": ".sh",
   "mimetype": "text/x-sh",
   "name": "bash"
  }
 },
 "nbformat": 4,
 "nbformat_minor": 1
}
